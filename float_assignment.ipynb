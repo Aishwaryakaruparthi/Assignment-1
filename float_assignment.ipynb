{
  "nbformat": 4,
  "nbformat_minor": 0,
  "metadata": {
    "colab": {
      "provenance": []
    },
    "kernelspec": {
      "name": "python3",
      "display_name": "Python 3"
    },
    "language_info": {
      "name": "python"
    }
  },
  "cells": [
    {
      "cell_type": "code",
      "source": [
        "#calculating the avg of 3.14,2.718,1.618,0.577\n",
        "numbers = [3.14, 2.718, 1.618, 0.577]\n",
        "average = sum(numbers) / len(numbers)\n",
        "print(\"Average:\", average)\n"
      ],
      "metadata": {
        "colab": {
          "base_uri": "https://localhost:8080/"
        },
        "id": "0KYClNjgH2QN",
        "outputId": "b2e46011-9d11-42d4-ff96-0fcb8730c837"
      },
      "execution_count": 6,
      "outputs": [
        {
          "output_type": "stream",
          "name": "stdout",
          "text": [
            "Average: 2.01325\n"
          ]
        }
      ]
    },
    {
      "cell_type": "code",
      "source": [
        "#converting 98.6 fahrenheit to celsius\n",
        "F = 98.6\n",
        "C = (F - 32) * 5/9\n",
        "print(\"Celsius:\", C)\n"
      ],
      "metadata": {
        "colab": {
          "base_uri": "https://localhost:8080/"
        },
        "id": "Ke7B5qHtIkCF",
        "outputId": "f86e4e36-d683-4afd-8042-f06915299395"
      },
      "execution_count": 1,
      "outputs": [
        {
          "output_type": "stream",
          "name": "stdout",
          "text": [
            "Celsius: 37.0\n"
          ]
        }
      ]
    },
    {
      "cell_type": "code",
      "source": [
        "#Calculate the compound interest on $1000 at 5.5% for 3 years\n",
        "P = 1000        # principal\n",
        "r = 5.5 / 100   # rate in decimal\n",
        "t = 3           # time in years\n",
        "\n",
        "A = P * (1 + r) ** t   # total amount\n",
        "CI = A - P             # compound interest\n",
        "\n",
        "print(\"Compound Interest:\", round(CI, 2))\n",
        "print(\"Total Amount:\", round(A, 2))\n"
      ],
      "metadata": {
        "colab": {
          "base_uri": "https://localhost:8080/"
        },
        "id": "9HBy5Bk3Hw2p",
        "outputId": "763ca799-0f37-414f-968d-3badbaf008a3"
      },
      "execution_count": 2,
      "outputs": [
        {
          "output_type": "stream",
          "name": "stdout",
          "text": [
            "Compound Interest: 174.24\n",
            "Total Amount: 1174.24\n"
          ]
        }
      ]
    },
    {
      "cell_type": "code",
      "source": [
        "#Find the hypotenuse of a right triangle with sides 3.5 and 4.2\n",
        "import math\n",
        "a, b = 3.5, 4.2\n",
        "c = math.sqrt(a*a + b*b)\n",
        "print(round(c, 2))  # 5.47\n"
      ],
      "metadata": {
        "colab": {
          "base_uri": "https://localhost:8080/"
        },
        "id": "-LlK_CTyIMlH",
        "outputId": "4808173e-2a50-4f51-92ee-6332e0693135"
      },
      "execution_count": 3,
      "outputs": [
        {
          "output_type": "stream",
          "name": "stdout",
          "text": [
            "5.47\n"
          ]
        }
      ]
    },
    {
      "cell_type": "code",
      "source": [
        "#Calculate the volume of a sphere with radius 7.8\n",
        "import math\n",
        "r = 7.8\n",
        "V = (4/3) * math.pi * r**3\n",
        "print(round(V, 2))  # 1987.8\n"
      ],
      "metadata": {
        "colab": {
          "base_uri": "https://localhost:8080/"
        },
        "id": "t-0F4BRTIany",
        "outputId": "2915e68a-de42-4702-dece-96bda2f47ff8"
      },
      "execution_count": 4,
      "outputs": [
        {
          "output_type": "stream",
          "name": "stdout",
          "text": [
            "1987.8\n"
          ]
        }
      ]
    },
    {
      "cell_type": "code",
      "source": [
        "#Round 3.14159 to 3 decimal places\n",
        "print(round(3.14159, 3))\n"
      ],
      "metadata": {
        "colab": {
          "base_uri": "https://localhost:8080/"
        },
        "id": "l679cyoDIjGu",
        "outputId": "f9b01df5-916c-4924-9ca4-48b617b67b15"
      },
      "execution_count": 5,
      "outputs": [
        {
          "output_type": "stream",
          "name": "stdout",
          "text": [
            "3.142\n"
          ]
        }
      ]
    },
    {
      "cell_type": "code",
      "source": [
        "#Calculate the percentage: 45 out of 67\n",
        "percentage = (45 / 67) * 100\n",
        "print(round(percentage, 2))\n"
      ],
      "metadata": {
        "colab": {
          "base_uri": "https://localhost:8080/"
        },
        "id": "WdqixnZWIrZT",
        "outputId": "254374b7-c617-4226-f8f3-16b76d05d15c"
      },
      "execution_count": 6,
      "outputs": [
        {
          "output_type": "stream",
          "name": "stdout",
          "text": [
            "67.16\n"
          ]
        }
      ]
    },
    {
      "cell_type": "code",
      "source": [
        "#Find the square root of 23.456\n",
        "import math\n",
        "print(round(math.sqrt(23.456), 3))\n"
      ],
      "metadata": {
        "colab": {
          "base_uri": "https://localhost:8080/"
        },
        "id": "Ol0K5Ru1I1rJ",
        "outputId": "946b2c87-0a25-42bc-c205-c834f5c963d2"
      },
      "execution_count": 7,
      "outputs": [
        {
          "output_type": "stream",
          "name": "stdout",
          "text": [
            "4.843\n"
          ]
        }
      ]
    },
    {
      "cell_type": "code",
      "source": [
        "# Calculate the simple interest: Principal=2500, Rate=6.5%, Time=2.5 years\n",
        "P = 2500\n",
        "R = 6.5\n",
        "T = 2.5\n",
        "\n",
        "SI = (P * R * T) / 100\n",
        "print(\"Simple Interest:\", SI)\n"
      ],
      "metadata": {
        "colab": {
          "base_uri": "https://localhost:8080/"
        },
        "id": "_ucAPPSlJABG",
        "outputId": "9dbf854a-8f5c-4ec0-b88a-8b8306148331"
      },
      "execution_count": 8,
      "outputs": [
        {
          "output_type": "stream",
          "name": "stdout",
          "text": [
            "Simple Interest: 406.25\n"
          ]
        }
      ]
    },
    {
      "cell_type": "code",
      "source": [
        "#Convert 45.7 degrees to radians\n",
        "import math\n",
        "degrees = 45.7\n",
        "radians = math.radians(degrees)\n",
        "print(round(radians, 3))\n"
      ],
      "metadata": {
        "colab": {
          "base_uri": "https://localhost:8080/"
        },
        "id": "V21U4FWGJJlz",
        "outputId": "ad8a50ff-e9a0-452a-d490-ee3b04ae1c96"
      },
      "execution_count": 9,
      "outputs": [
        {
          "output_type": "stream",
          "name": "stdout",
          "text": [
            "0.798\n"
          ]
        }
      ]
    }
  ]
}