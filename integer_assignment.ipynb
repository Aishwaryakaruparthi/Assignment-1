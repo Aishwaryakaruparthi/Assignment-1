{
  "nbformat": 4,
  "nbformat_minor": 0,
  "metadata": {
    "colab": {
      "provenance": []
    },
    "kernelspec": {
      "name": "python3",
      "display_name": "Python 3"
    },
    "language_info": {
      "name": "python"
    }
  },
  "cells": [
    {
      "cell_type": "code",
      "execution_count": 1,
      "metadata": {
        "colab": {
          "base_uri": "https://localhost:8080/"
        },
        "id": "mTR9SJDzVht7",
        "outputId": "9def7999-28a7-48db-afd4-dbffcf62b5a0"
      },
      "outputs": [
        {
          "output_type": "stream",
          "name": "stdout",
          "text": [
            "Product of first 10 natural numbers: 3628800\n"
          ]
        }
      ],
      "source": [
        "#calculating the product of first 10 natural numbers\n",
        "import math\n",
        "\n",
        "# Using factorial function\n",
        "product = math.factorial(10)\n",
        "print(\"Product of first 10 natural numbers:\", product)\n"
      ]
    },
    {
      "cell_type": "code",
      "source": [
        "#finding the reminder when 156 is divided by 7\n",
        "remainder = 156 % 7\n",
        "print(remainder)\n"
      ],
      "metadata": {
        "colab": {
          "base_uri": "https://localhost:8080/"
        },
        "id": "HZCj3XGjYFiP",
        "outputId": "7e3dda0b-808c-4e75-a1f5-c2ca834c91bf"
      },
      "execution_count": 3,
      "outputs": [
        {
          "output_type": "stream",
          "name": "stdout",
          "text": [
            "2\n"
          ]
        }
      ]
    },
    {
      "cell_type": "code",
      "source": [
        "#calculating the square of 25\n",
        "square = 25 ** 2\n",
        "print(square)"
      ],
      "metadata": {
        "colab": {
          "base_uri": "https://localhost:8080/"
        },
        "id": "iROC2CyMYeeC",
        "outputId": "12ee13e4-0657-42b0-e595-c088d834f567"
      },
      "execution_count": 5,
      "outputs": [
        {
          "output_type": "stream",
          "name": "stdout",
          "text": [
            "625\n"
          ]
        }
      ]
    },
    {
      "cell_type": "code",
      "source": [
        "# calculating the sum of digits in number 12345\n",
        "number = 12345\n",
        "sum_of_digits = sum(int(digit) for digit in str(number))\n",
        "print(sum_of_digits)\n"
      ],
      "metadata": {
        "colab": {
          "base_uri": "https://localhost:8080/"
        },
        "id": "qPTtoCAHlENx",
        "outputId": "d53313f8-7180-46ed-fd67-b7b84bda4f2f"
      },
      "execution_count": 8,
      "outputs": [
        {
          "output_type": "stream",
          "name": "stdout",
          "text": [
            "15\n"
          ]
        }
      ]
    },
    {
      "cell_type": "code",
      "source": [
        "#checking if 97 is a prime number\n",
        "num = 97\n",
        "\n",
        "for i in range(2, num):\n",
        "    if num % i == 0:\n",
        "        print(\"Not Prime\")\n",
        "        break\n",
        "else:\n",
        "    print(\"Prime\")\n"
      ],
      "metadata": {
        "colab": {
          "base_uri": "https://localhost:8080/"
        },
        "id": "yhN4fehmmbqa",
        "outputId": "9940bd39-7a62-4236-a5ae-01469482235d"
      },
      "execution_count": 9,
      "outputs": [
        {
          "output_type": "stream",
          "name": "stdout",
          "text": [
            "Prime\n"
          ]
        }
      ]
    },
    {
      "cell_type": "markdown",
      "source": [],
      "metadata": {
        "id": "-HK09sJArGSs"
      }
    },
    {
      "cell_type": "code",
      "source": [
        "import math\n",
        "print(math.factorial(8))"
      ],
      "metadata": {
        "colab": {
          "base_uri": "https://localhost:8080/"
        },
        "id": "JOQXw-ZPp0It",
        "outputId": "14fa4e3e-fe01-44aa-d6f2-ce5c405de578"
      },
      "execution_count": 12,
      "outputs": [
        {
          "output_type": "stream",
          "name": "stdout",
          "text": [
            "40320\n"
          ]
        }
      ]
    },
    {
      "cell_type": "code",
      "source": [
        "#calculating the avg numbers:15,23,31,42,56\n",
        "import math\n",
        "numbers = [15,23,31,42,56]\n",
        "avg =  sum(numbers) / len(numbers)\n",
        "print(avg)"
      ],
      "metadata": {
        "colab": {
          "base_uri": "https://localhost:8080/"
        },
        "id": "HWdVnQk2p4mC",
        "outputId": "56baff88-0bb3-484e-b2ae-7197e0563dc3"
      },
      "execution_count": 13,
      "outputs": [
        {
          "output_type": "stream",
          "name": "stdout",
          "text": [
            "33.4\n"
          ]
        }
      ]
    },
    {
      "cell_type": "code",
      "source": [
        "#finding the greatest commom divisor (GCD of 48 and 36)\n",
        "import math\n",
        "print(math.gcd(48,36))\n"
      ],
      "metadata": {
        "colab": {
          "base_uri": "https://localhost:8080/"
        },
        "id": "rhi_N3pNqyWm",
        "outputId": "44308f2b-43d7-421f-c62f-3de51c285b74"
      },
      "execution_count": 15,
      "outputs": [
        {
          "output_type": "stream",
          "name": "stdout",
          "text": [
            "12\n"
          ]
        }
      ]
    },
    {
      "cell_type": "code",
      "source": [
        "#calculating sum of 20 odd numbers\n",
        "sum_odd = 0\n",
        "\n",
        "for i in range(1, 21):\n",
        "    sum_odd += 2*i - 1  # ith odd number\n",
        "\n",
        "print(\"Sum:\", sum_odd)\n"
      ],
      "metadata": {
        "colab": {
          "base_uri": "https://localhost:8080/"
        },
        "id": "e7ZbG-K4-8A9",
        "outputId": "534842ce-4180-4dfe-d9cc-4531973664bd"
      },
      "execution_count": 2,
      "outputs": [
        {
          "output_type": "stream",
          "name": "stdout",
          "text": [
            "Sum: 400\n"
          ]
        }
      ]
    }
  ]
}